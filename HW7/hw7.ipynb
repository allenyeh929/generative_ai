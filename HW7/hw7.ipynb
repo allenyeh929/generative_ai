{
  "nbformat": 4,
  "nbformat_minor": 0,
  "metadata": {
    "colab": {
      "provenance": [],
      "authorship_tag": "ABX9TyPb4oHappq7aBcMLRU+K19q",
      "include_colab_link": true
    },
    "kernelspec": {
      "name": "python3",
      "display_name": "Python 3"
    },
    "language_info": {
      "name": "python"
    }
  },
  "cells": [
    {
      "cell_type": "markdown",
      "metadata": {
        "id": "view-in-github",
        "colab_type": "text"
      },
      "source": [
        "<a href=\"https://colab.research.google.com/github/allenyeh929/generative_ai/blob/main/hw7_1.ipynb\" target=\"_parent\"><img src=\"https://colab.research.google.com/assets/colab-badge.svg\" alt=\"Open In Colab\"/></a>"
      ]
    },
    {
      "cell_type": "markdown",
      "source": [
        "## 1. 下載資料庫、安裝套件"
      ],
      "metadata": {
        "id": "-gesb_3ERvkO"
      }
    },
    {
      "cell_type": "code",
      "execution_count": null,
      "metadata": {
        "id": "13QET-eORreH"
      },
      "outputs": [],
      "source": [
        "!wget -O faiss_db.zip 'https://drive.google.com/uc?export=download&id=1-fKq0ro1-iihtJHKCwwCjLxf9uKmn1pM'\n",
        "!unzip -o faiss_db.zip\n",
        "!pip install -U langchain langchain-community sentence-transformers faiss-cpu gradio openai"
      ]
    },
    {
      "cell_type": "markdown",
      "source": [
        "## 2. 下載資料庫、安裝套件"
      ],
      "metadata": {
        "id": "qhPAYOEbRypL"
      }
    },
    {
      "cell_type": "code",
      "source": [
        "from langchain_community.vectorstores import FAISS\n",
        "from langchain_community.embeddings import HuggingFaceEmbeddings\n",
        "from langchain.chat_models import ChatOpenAI\n",
        "from langchain.chains import ConversationalRetrievalChain\n",
        "\n",
        "from openai import OpenAI\n",
        "import gradio as gr\n",
        "import os\n",
        "\n",
        "# E5 Embedding 包裝\n",
        "class CustomE5Embedding(HuggingFaceEmbeddings):\n",
        "    def embed_documents(self, texts):\n",
        "        texts = [f\"passage: {t}\" for t in texts]\n",
        "        return super().embed_documents(texts)\n",
        "\n",
        "    def embed_query(self, text):\n",
        "        return super().embed_query(f\"query: {text}\")\n",
        "\n",
        "# 向量資料庫 + 查詢系統\n",
        "embedding_model = CustomE5Embedding(model_name=\"intfloat/multilingual-e5-small\")\n",
        "db = FAISS.load_local(\"faiss_db\", embedding_model, allow_dangerous_deserialization=True)\n",
        "retriever = db.as_retriever()\n"
      ],
      "metadata": {
        "id": "ierEZYU8Ry7Q"
      },
      "execution_count": null,
      "outputs": []
    },
    {
      "cell_type": "markdown",
      "source": [
        "## 3. 設定模型連線與 Prompt"
      ],
      "metadata": {
        "id": "27yvlfQCR7Gd"
      }
    },
    {
      "cell_type": "code",
      "source": [
        "from google.colab import userdata\n",
        "api_key = userdata.get('Groq')  # 載入 Groq API 金鑰\n",
        "os.environ[\"OPENAI_API_KEY\"] = api_key\n",
        "\n",
        "model = \"llama3-70b-8192\"  # 改為你用的 Groq 模型名稱\n",
        "base_url = \"https://api.groq.com/openai/v1\"\n",
        "client = OpenAI(base_url=base_url)\n",
        "\n",
        "# ✅ System Prompt：固定用繁體中文、專業但易懂地回答電腦圖學問題\n",
        "system_prompt = '''\n",
        "請務必全程使用「繁體中文」來回答所有問題，不論使用者使用什麼語言提問，回答時都只能使用繁體中文。這一點非常重要，請嚴格遵守，不得違反。\n",
        "\n",
        "你是一個精通電腦圖學的 AI 系統，擅長解釋電腦圖學論文中的技術概念。請以專業、邏輯清楚、淺顯易懂且詳細的方式回答。\n",
        "\n",
        "不可以使用英文、簡體中文或其他語言，所有回答都必須是繁體中文，否則將視為錯誤回應。\n",
        "'''\n",
        "\n",
        "# ✅ Prompt Template：插入取回文件與使用者問題\n",
        "prompt_template = \"\"\"\n",
        "根據下列電腦圖學論文資料回覆使用者問題：\n",
        "\n",
        "{retrieved_chunks}\n",
        "\n",
        "使用者的問題是：{question}\n",
        "\n",
        "請用繁體中文，並以邏輯清楚、淺顯易懂的方式詳細回答。\n",
        "若回答使用英文，則代表錯誤。\n",
        "\"\"\"\n"
      ],
      "metadata": {
        "id": "jOa1y53FR7ll"
      },
      "execution_count": null,
      "outputs": []
    },
    {
      "cell_type": "markdown",
      "source": [
        "## 4. 建立對話處理函式"
      ],
      "metadata": {
        "id": "-GoLL7kUSBgJ"
      }
    },
    {
      "cell_type": "code",
      "source": [
        "chat_history = []\n",
        "\n",
        "def chat_with_rag(user_input):\n",
        "    global chat_history\n",
        "    docs = retriever.invoke(user_input)\n",
        "    retrieved_chunks = \"\\n\\n\".join([doc.page_content for doc in docs])\n",
        "\n",
        "    final_prompt = prompt_template.format(retrieved_chunks=retrieved_chunks, question=user_input)\n",
        "\n",
        "    response = client.chat.completions.create(\n",
        "        model=model,\n",
        "        messages=[\n",
        "            {\"role\": \"system\", \"content\": system_prompt},\n",
        "            {\"role\": \"user\", \"content\": final_prompt}\n",
        "        ]\n",
        "    )\n",
        "\n",
        "    answer = response.choices[0].message.content\n",
        "    chat_history.append((user_input, answer))\n",
        "    return answer\n"
      ],
      "metadata": {
        "id": "nCg4TRWhSB5E"
      },
      "execution_count": null,
      "outputs": []
    },
    {
      "cell_type": "markdown",
      "source": [
        "## 5. Gradio 介面"
      ],
      "metadata": {
        "id": "WS9ZbKAPSGoG"
      }
    },
    {
      "cell_type": "code",
      "source": [
        "with gr.Blocks() as demo:\n",
        "    gr.Markdown(\"# 📘 電腦圖學問答助手\")\n",
        "    gr.Markdown(\"\"\"\n",
        "歡迎使用 **電腦圖學問答助手**，這是一個透過 RAG 技術建構的互動系統，專門回答有關 **電腦圖學論文、技術、概念與方法** 的問題。\n",
        "\n",
        "✅ 特點：\n",
        "- 回答使用繁體中文\n",
        "- 精通圖形學論文與概念（如：光線追蹤、著色器、渲染、圖形硬體等）\n",
        "- 可幫助理解技術名詞、核心思想與應用情境\n",
        "\n",
        "請輸入你對電腦圖學的疑問，我會幫你查找資料並提供清楚的說明。\n",
        "\"\"\")\n",
        "\n",
        "    chatbot = gr.Chatbot()\n",
        "    msg = gr.Textbox(placeholder=\"請輸入你的問題...\")\n",
        "\n",
        "    def respond(message, chat_history_local):\n",
        "        response = chat_with_rag(message)\n",
        "        chat_history_local.append((message, response))\n",
        "        return \"\", chat_history_local\n",
        "\n",
        "    msg.submit(respond, [msg, chatbot], [msg, chatbot])\n",
        "\n",
        "demo.launch(debug=True)\n"
      ],
      "metadata": {
        "id": "7bSI_iCiSG-V"
      },
      "execution_count": null,
      "outputs": []
    }
  ]
}
